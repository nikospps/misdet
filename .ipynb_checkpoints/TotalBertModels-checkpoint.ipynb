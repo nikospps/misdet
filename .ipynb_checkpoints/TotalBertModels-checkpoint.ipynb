{
 "cells": [
  {
   "cell_type": "code",
   "execution_count": 1,
   "id": "519eb437-0d00-4f26-b9b9-b15a0d44cdf7",
   "metadata": {},
   "outputs": [],
   "source": [
    "from transformers import AutoModelForSequenceClassification, AutoTokenizer, Pipeline\n",
    "import torch\n",
    "# from transformers import pipeline\n",
    "from newspaper import Article"
   ]
  },
  {
   "cell_type": "code",
   "execution_count": 2,
   "id": "a6e4daf8-7055-49b9-bf40-a96bad64ca81",
   "metadata": {},
   "outputs": [],
   "source": [
    "import os\n",
    "os.environ[\"TOKENIZERS_PARALLELISM\"] = \"false\""
   ]
  },
  {
   "cell_type": "markdown",
   "id": "c627d83c-4fcb-4009-8d5d-f21755487dd5",
   "metadata": {},
   "source": [
    "Bert Verification Service"
   ]
  },
  {
   "cell_type": "code",
   "execution_count": 3,
   "id": "3bce39cb-8a81-4475-9e73-bf7472026847",
   "metadata": {},
   "outputs": [],
   "source": [
    "model_name = \"./Bert2_FN_Classification/\"  # Path to the local clone repository\n",
    "model = AutoModelForSequenceClassification.from_pretrained(model_name)\n",
    "tokenizer = AutoTokenizer.from_pretrained(model_name)\n",
    "# Use the model and tokenizer for text classification or other NLP tasks"
   ]
  },
  {
   "cell_type": "markdown",
   "id": "3106180f-fc08-4c3e-9837-da069ad92145",
   "metadata": {},
   "source": [
    "DistilBert Verification Service"
   ]
  },
  {
   "cell_type": "code",
   "execution_count": 4,
   "id": "dd87034a-e328-4bf1-8b9e-41d721400442",
   "metadata": {},
   "outputs": [],
   "source": [
    "model_name1 = \"./Distilbert_FN_classification/\"  # Path to the local clone repository\n",
    "model1 = AutoModelForSequenceClassification.from_pretrained(model_name1)\n",
    "tokenizer1 = AutoTokenizer.from_pretrained(model_name1)\n",
    "# Use the model and tokenizer for text classification or other NLP tasks"
   ]
  },
  {
   "cell_type": "markdown",
   "id": "52310f7d-255c-483c-bbc8-b5bda3882dbd",
   "metadata": {},
   "source": [
    "RoBERTa Verification Service"
   ]
  },
  {
   "cell_type": "code",
   "execution_count": 5,
   "id": "90db8d5a-1aa2-4287-923a-7ff4c32ef9ba",
   "metadata": {},
   "outputs": [],
   "source": [
    "model_name2 = \"./roberta_FN_classification\"  # Path to the local clone repository\n",
    "model2 = AutoModelForSequenceClassification.from_pretrained(model_name2)\n",
    "tokenizer2 = AutoTokenizer.from_pretrained(model_name2)\n",
    "# Use the model and tokenizer for text classification or other NLP tasks"
   ]
  },
  {
   "cell_type": "code",
   "execution_count": 6,
   "id": "b38e2947-8316-41cf-9943-42b767c8cf43",
   "metadata": {},
   "outputs": [],
   "source": [
    "def predict_fake(title,text):\n",
    "    input_str = \"<title>\" + title + \"<content>\" +  text + \"<end>\"\n",
    "    input_ids = tokenizer.encode_plus(input_str, max_length=512, padding=\"max_length\", truncation=True, return_tensors=\"pt\")\n",
    "    device =  'cuda' if torch.cuda.is_available() else 'cpu'\n",
    "    model.to(device)\n",
    "    with torch.no_grad():\n",
    "        output = model(input_ids[\"input_ids\"].to(device), attention_mask=input_ids[\"attention_mask\"].to(device))\n",
    "    return dict(zip([\"Fake\",\"Real\"], [x.item() for x in list(torch.nn.Softmax()(output.logits)[0])] ))"
   ]
  },
  {
   "cell_type": "code",
   "execution_count": 7,
   "id": "4223bddc-7ad1-49da-9a4b-52f169f42567",
   "metadata": {},
   "outputs": [],
   "source": [
    "def predict1_fake(title,text):\n",
    "    input_str = \"<title>\" + title + \"<content>\" +  text + \"<end>\"\n",
    "    input_ids = tokenizer1.encode_plus(input_str, max_length=512, padding=\"max_length\", truncation=True, return_tensors=\"pt\")\n",
    "    device =  'cuda' if torch.cuda.is_available() else 'cpu'\n",
    "    model1.to(device)\n",
    "    with torch.no_grad():\n",
    "        output = model1(input_ids[\"input_ids\"].to(device), attention_mask=input_ids[\"attention_mask\"].to(device))\n",
    "    return dict(zip([\"Fake\",\"Real\"], [x.item() for x in list(torch.nn.Softmax()(output.logits)[0])] ))"
   ]
  },
  {
   "cell_type": "code",
   "execution_count": 8,
   "id": "9cd5c7f7-6da6-46cc-b92d-eeeeec124689",
   "metadata": {},
   "outputs": [],
   "source": [
    "def predict2_fake(title,text):\n",
    "    input_str = \"<title>\" + title + \"<content>\" +  text + \"<end>\"\n",
    "    input_ids = tokenizer2.encode_plus(input_str, max_length=512, padding=\"max_length\", truncation=True, return_tensors=\"pt\")\n",
    "    device =  'cuda' if torch.cuda.is_available() else 'cpu'\n",
    "    model2.to(device)\n",
    "    with torch.no_grad():\n",
    "        output = model2(input_ids[\"input_ids\"].to(device), attention_mask=input_ids[\"attention_mask\"].to(device))\n",
    "    return dict(zip([\"Fake\",\"Real\"], [x.item() for x in list(torch.nn.Softmax()(output.logits)[0])] ))"
   ]
  },
  {
   "cell_type": "markdown",
   "id": "45b5c171-bae4-430c-a657-0e1f772d063d",
   "metadata": {},
   "source": [
    "URLs Preprocessing"
   ]
  },
  {
   "cell_type": "code",
   "execution_count": 9,
   "id": "8eac2fec-12bc-4140-b78a-4b76bc57935c",
   "metadata": {},
   "outputs": [],
   "source": [
    "# url = input()\n",
    "# print(url)"
   ]
  },
  {
   "cell_type": "code",
   "execution_count": 10,
   "id": "11bf5a29-0c9d-4b5c-88fa-d17714167715",
   "metadata": {},
   "outputs": [],
   "source": [
    "#Use input function instead of\n",
    "url = 'https://edition.cnn.com/2023/09/15/americas/haiti-un-peacekeepers-trust-fund-sexual-abuse-as-equals-intl-cmd/index.html'\n",
    "article = Article(url)"
   ]
  },
  {
   "cell_type": "code",
   "execution_count": 11,
   "id": "14b82a89-452a-4a99-b1c1-f40be55cadb0",
   "metadata": {},
   "outputs": [],
   "source": [
    "article.download()\n",
    "article.parse()"
   ]
  },
  {
   "cell_type": "code",
   "execution_count": 12,
   "id": "2ddc21d5-e696-43a3-a083-5980ec7051fa",
   "metadata": {},
   "outputs": [],
   "source": [
    "title = article.title"
   ]
  },
  {
   "cell_type": "code",
   "execution_count": 13,
   "id": "0e98a4a9-1c33-4cec-bec6-aded81da568c",
   "metadata": {},
   "outputs": [],
   "source": [
    "text = article.text"
   ]
  },
  {
   "cell_type": "code",
   "execution_count": 14,
   "id": "0e3ede74-0bf9-4878-9f77-0097be4a9e2f",
   "metadata": {},
   "outputs": [
    {
     "data": {
      "text/plain": [
       "2000"
      ]
     },
     "execution_count": 14,
     "metadata": {},
     "output_type": "execute_result"
    }
   ],
   "source": [
    "len(text[:2000])"
   ]
  },
  {
   "cell_type": "code",
   "execution_count": 15,
   "id": "3e3cffee-1e05-4552-a01d-025379a30058",
   "metadata": {},
   "outputs": [
    {
     "data": {
      "text/plain": [
       "17471"
      ]
     },
     "execution_count": 15,
     "metadata": {},
     "output_type": "execute_result"
    }
   ],
   "source": [
    "len(text)"
   ]
  },
  {
   "cell_type": "code",
   "execution_count": 16,
   "id": "c654c3e4-f382-4bee-a9d7-9cad939b5e58",
   "metadata": {},
   "outputs": [
    {
     "name": "stdout",
     "output_type": "stream",
     "text": [
      "{'Fake': 0.9993913173675537, 'Real': 0.0006086896755732596}\n"
     ]
    },
    {
     "name": "stderr",
     "output_type": "stream",
     "text": [
      "/tmp/ipykernel_17590/1762184334.py:8: UserWarning: Implicit dimension choice for softmax has been deprecated. Change the call to include dim=X as an argument.\n",
      "  return dict(zip([\"Fake\",\"Real\"], [x.item() for x in list(torch.nn.Softmax()(output.logits)[0])] ))\n"
     ]
    }
   ],
   "source": [
    "print(predict_fake(title,text))"
   ]
  },
  {
   "cell_type": "code",
   "execution_count": 17,
   "id": "de3ca642-95ce-4f0c-ba6c-4fea25987254",
   "metadata": {},
   "outputs": [
    {
     "name": "stdout",
     "output_type": "stream",
     "text": [
      "{'Fake': 0.9838623404502869, 'Real': 0.01613762602210045}\n"
     ]
    },
    {
     "name": "stderr",
     "output_type": "stream",
     "text": [
      "/tmp/ipykernel_17590/765998218.py:8: UserWarning: Implicit dimension choice for softmax has been deprecated. Change the call to include dim=X as an argument.\n",
      "  return dict(zip([\"Fake\",\"Real\"], [x.item() for x in list(torch.nn.Softmax()(output.logits)[0])] ))\n"
     ]
    }
   ],
   "source": [
    "print(predict1_fake(title,text))"
   ]
  },
  {
   "cell_type": "code",
   "execution_count": 18,
   "id": "16a69a53-f63c-4064-aeef-3e7e8293489b",
   "metadata": {},
   "outputs": [
    {
     "name": "stdout",
     "output_type": "stream",
     "text": [
      "{'Fake': 0.0005526861059479415, 'Real': 0.9994472861289978}\n"
     ]
    },
    {
     "name": "stderr",
     "output_type": "stream",
     "text": [
      "/tmp/ipykernel_17590/1261642258.py:8: UserWarning: Implicit dimension choice for softmax has been deprecated. Change the call to include dim=X as an argument.\n",
      "  return dict(zip([\"Fake\",\"Real\"], [x.item() for x in list(torch.nn.Softmax()(output.logits)[0])] ))\n"
     ]
    }
   ],
   "source": [
    "print(predict2_fake(title,text))"
   ]
  },
  {
   "cell_type": "code",
   "execution_count": 24,
   "id": "8bbb9fbe-5c8c-4de1-b027-3573ead96a40",
   "metadata": {},
   "outputs": [
    {
     "name": "stderr",
     "output_type": "stream",
     "text": [
      "/tmp/ipykernel_17590/1762184334.py:8: UserWarning: Implicit dimension choice for softmax has been deprecated. Change the call to include dim=X as an argument.\n",
      "  return dict(zip([\"Fake\",\"Real\"], [x.item() for x in list(torch.nn.Softmax()(output.logits)[0])] ))\n"
     ]
    },
    {
     "data": {
      "text/plain": [
       "99.94"
      ]
     },
     "execution_count": 24,
     "metadata": {},
     "output_type": "execute_result"
    }
   ],
   "source": [
    "round(predict_fake(title,text)['Fake']*100,2)"
   ]
  },
  {
   "cell_type": "code",
   "execution_count": 23,
   "id": "ca96238b-9f37-4b79-b553-dd056828ec30",
   "metadata": {},
   "outputs": [
    {
     "name": "stderr",
     "output_type": "stream",
     "text": [
      "/tmp/ipykernel_17590/1762184334.py:8: UserWarning: Implicit dimension choice for softmax has been deprecated. Change the call to include dim=X as an argument.\n",
      "  return dict(zip([\"Fake\",\"Real\"], [x.item() for x in list(torch.nn.Softmax()(output.logits)[0])] ))\n"
     ]
    },
    {
     "data": {
      "text/plain": [
       "0.06"
      ]
     },
     "execution_count": 23,
     "metadata": {},
     "output_type": "execute_result"
    }
   ],
   "source": [
    "round(predict_fake(title,text)['Real']*100,2)"
   ]
  },
  {
   "cell_type": "code",
   "execution_count": null,
   "id": "ad135daf-f8cf-430a-b758-8fdabc6c87f6",
   "metadata": {},
   "outputs": [],
   "source": []
  }
 ],
 "metadata": {
  "kernelspec": {
   "display_name": "Python 3 (ipykernel)",
   "language": "python",
   "name": "python3"
  },
  "language_info": {
   "codemirror_mode": {
    "name": "ipython",
    "version": 3
   },
   "file_extension": ".py",
   "mimetype": "text/x-python",
   "name": "python",
   "nbconvert_exporter": "python",
   "pygments_lexer": "ipython3",
   "version": "3.8.17"
  }
 },
 "nbformat": 4,
 "nbformat_minor": 5
}
