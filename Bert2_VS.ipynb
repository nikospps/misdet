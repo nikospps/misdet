{
 "cells": [
  {
   "cell_type": "code",
   "execution_count": null,
   "id": "cc90cee6-47a3-4476-9856-a17e7161c377",
   "metadata": {},
   "outputs": [],
   "source": [
    "from transformers import AutoModelForSequenceClassification, AutoTokenizer, Pipeline\n",
    "import torch\n",
    "# from transformers import pipeline\n",
    "from newspaper import Article"
   ]
  },
  {
   "cell_type": "code",
   "execution_count": null,
   "id": "89272d64-f0e5-44d3-922a-ffbdf372ef84",
   "metadata": {},
   "outputs": [],
   "source": [
    "import os\n",
    "os.environ[\"TOKENIZERS_PARALLELISM\"] = \"false\""
   ]
  },
  {
   "cell_type": "code",
   "execution_count": null,
   "id": "296479cd-8f4e-48e1-8726-526c8e86dd97",
   "metadata": {},
   "outputs": [],
   "source": [
    "model_name = \"./Bert2_FN_Classification/\"  # Path to the local clone repository\n",
    "model = AutoModelForSequenceClassification.from_pretrained(model_name)\n",
    "tokenizer = AutoTokenizer.from_pretrained(model_name)\n",
    "# Use the model and tokenizer for text classification or other NLP tasks"
   ]
  },
  {
   "cell_type": "code",
   "execution_count": null,
   "id": "c9002b3f-ed48-4fae-b4a7-457497f94b54",
   "metadata": {},
   "outputs": [],
   "source": [
    "def predict_fake(title,text):\n",
    "    input_str = \"<title>\" + title + \"<content>\" +  text + \"<end>\"\n",
    "    input_ids = tokenizer.encode_plus(input_str, max_length=512, padding=\"max_length\", truncation=True, return_tensors=\"pt\")\n",
    "    device =  'cuda' if torch.cuda.is_available() else 'cpu'\n",
    "    model.to(device)\n",
    "    with torch.no_grad():\n",
    "        output = model(input_ids[\"input_ids\"].to(device), attention_mask=input_ids[\"attention_mask\"].to(device))\n",
    "    return dict(zip([\"Fake\",\"Real\"], [x.item() for x in list(torch.nn.Softmax()(output.logits)[0])] ))"
   ]
  },
  {
   "cell_type": "code",
   "execution_count": null,
   "id": "00baa24a-c159-4f06-bca0-6db17caf3437",
   "metadata": {},
   "outputs": [],
   "source": [
    "url = 'https://edition.cnn.com/africa/live-news/morocco-earthquake-marrakech-09-11-23/index.html'\n",
    "article = Article(url)"
   ]
  },
  {
   "cell_type": "code",
   "execution_count": null,
   "id": "c782c5d7-6a19-4c3f-a027-3a0695de66e5",
   "metadata": {},
   "outputs": [],
   "source": [
    "article.download()\n",
    "article.parse()"
   ]
  },
  {
   "cell_type": "code",
   "execution_count": null,
   "id": "d7ba4fd6-d709-4d1b-9cfb-1ef3674da56d",
   "metadata": {},
   "outputs": [],
   "source": [
    "title = article.title"
   ]
  },
  {
   "cell_type": "code",
   "execution_count": null,
   "id": "ebb611a1-b067-4e95-9a50-0e47539a505a",
   "metadata": {},
   "outputs": [],
   "source": [
    "text = article.text"
   ]
  },
  {
   "cell_type": "code",
   "execution_count": null,
   "id": "c77ba4fa-5478-4d23-b229-9aa247aa50eb",
   "metadata": {},
   "outputs": [],
   "source": [
    "len(text[:2000])"
   ]
  },
  {
   "cell_type": "code",
   "execution_count": null,
   "id": "c19e5b0e-6807-445d-bfef-bdf654af2339",
   "metadata": {},
   "outputs": [],
   "source": [
    "len(text)"
   ]
  },
  {
   "cell_type": "code",
   "execution_count": null,
   "id": "7e81198d-08d9-4561-8115-04727df35803",
   "metadata": {},
   "outputs": [],
   "source": [
    "# title = \"Sir Michael Parkinson's cause of death revealed as broadcaster dies aged 88\""
   ]
  },
  {
   "cell_type": "code",
   "execution_count": null,
   "id": "a790da2b-1d5b-4c3d-bf31-bef5f4fe158f",
   "metadata": {},
   "outputs": [],
   "source": [
    "# text = 'Sir Michael Parkinson\\'s cause of death has been revealed after the celebrated broadcaster died aged 88.\\n\\nThe legendary TV interviewer died after a short illness, eight years after receiving the all-clear following treatment for prostate cancer. In a heartbreaking statement shared by Michael\\'s family on August 16, they said: \"After a brief illness Sir Michael Parkinson passed away peacefully at home last night in the company of his family. The family request that they are given privacy and time to grieve.\"\\n\\nMichael was known for doing painstaking research and asking his famous guests all the right questions. It has now been revealed the TV legend died of \\'frailty of old age\\', per his death certificate, seen by Express.co.uk.\\n\\nFollowing the news of Sir Michael\\'s death, many celebrities and industry friends paid tribute to the star. Among those paying tribute was the BBC\\'s director-general Tim Davie, who hailed Parkinson as \"the king of the chat show” and an “incredible broadcaster and journalist”. He said: “Michael was the king of the chat show and he defined the format for all the presenters and shows that followed. He interviewed the biggest stars of the 20th century and did so in a way that enthralled the public. Michael was not only brilliant at asking questions, he was also a wonderful listener. Michael was truly one of a kind, an incredible broadcaster and journalist who will be hugely missed.”\\n\\nFormer BBC newsreader India Willoughby also shared a touching anecdote about the time she met Parkinson in the 80s, writing: \"V sad to hear about Michael Parkinson. When I was doing my journalism training, he came to give us a talk at Stradbroke College (later Richmond College) in Sheffield. Mid 1980s. All in awe of him. Said was the best job in the world. Well for a time, you WERE the best. RIP Parky.\"\\n\\nBritish singer and actress Elaine Paige paid tribute to Sir Michael Parkinson describing him as a “legendary interviewer”. Sharing a picture of the pair on X, formerly Twitter, she said: “Such very sad breaking news that Sir Michael Parkinson has died. Have known him for many years, sang on his TV chat show & attended many events with him. A legendary interviewer that will be remembered as the best of his profession. We will never see his like again.”\\n\\nParkinson made his last TV appearance on BBC\\'s Breakfast in November 2022 where viewers shared their concern for the much-loved broadcaster, as many said they felt he looked \\'frail\\'. Sir Michael appeared to discuss his book My Sporting Life: Memories, Moments, and Declarations, which he had co-written with his son, Mike. The celebrated broadcaster made the rare appearance after keeping a very low profile following stepping down from his chat show in 2014.\\n\\nHe was last spotted publicly in May this year, just three months before his death, to celebrate the release of his autobiography at the Hay Festival. Sir Michael was all smiles as he met fans over the course of the weekend. Prior to this, in April this year, he appeared at pal Dickie Bird\\'s 90th birthday party at Leeds\\' Headingley Stadium. The TV legend was the king of chat shows and carved out a television career that spanned five decades. He was best know for presenting his talk show Parkinson from 1971 to 1983. The small screen veteran’s show was revived in 1998 and ran until his retirement in 2007.\\n\\nMichael’s glittering career saw him interview icons such as Muhammad Ali and Sir Elton John and he was knighted in the 2008 New Year’s Honour’s List. He is survived by his wife Mary, who he married in 1959, and their three sons. Michael had the interview table turned on him in May 2019 when he appeared on Piers Morgan\\'s Life Stories. Quizzed by Morgan on how he wanted to be remembered after his death, he said: \"I just want to be remembered as someone who had a good time, lots of good mates and wrote the odd good piece and did the odd good interview. That\\'s enough.\"\\n\\nFollow Mirror Celebs on Snapchat , Instagram , Twitter , Facebook , YouTube and Threads .'"
   ]
  },
  {
   "cell_type": "code",
   "execution_count": null,
   "id": "6e3bfa01-bc36-4830-b100-98d2197c511b",
   "metadata": {},
   "outputs": [],
   "source": [
    "print(predict_fake(title,text))"
   ]
  },
  {
   "cell_type": "code",
   "execution_count": null,
   "id": "bf427b3f-4813-48fa-be0e-2e342faaa7bc",
   "metadata": {},
   "outputs": [],
   "source": [
    "!nvidia-smi"
   ]
  },
  {
   "cell_type": "code",
   "execution_count": null,
   "id": "12ea2952-a998-4cbf-9e87-9b3d10f4ce1c",
   "metadata": {},
   "outputs": [],
   "source": []
  }
 ],
 "metadata": {
  "kernelspec": {
   "display_name": "Python 3 (ipykernel)",
   "language": "python",
   "name": "python3"
  },
  "language_info": {
   "codemirror_mode": {
    "name": "ipython",
    "version": 3
   },
   "file_extension": ".py",
   "mimetype": "text/x-python",
   "name": "python",
   "nbconvert_exporter": "python",
   "pygments_lexer": "ipython3",
   "version": "3.8.17"
  }
 },
 "nbformat": 4,
 "nbformat_minor": 5
}
